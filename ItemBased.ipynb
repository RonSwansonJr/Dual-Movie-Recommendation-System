{
  "nbformat": 4,
  "nbformat_minor": 0,
  "metadata": {
    "colab": {
      "name": "CF_ASS1_ItemBased.ipynb",
      "provenance": []
    },
    "kernelspec": {
      "name": "python3",
      "display_name": "Python 3"
    }
  },
  "cells": [
    {
      "cell_type": "code",
      "metadata": {
        "id": "EbdK9Fpa2efr"
      },
      "source": [
        "import pandas as pd\r\n",
        "import numpy as np\r\n",
        "from scipy.spatial import distance"
      ],
      "execution_count": null,
      "outputs": []
    },
    {
      "cell_type": "code",
      "metadata": {
        "colab": {
          "base_uri": "https://localhost:8080/"
        },
        "id": "ZMxQzyDUAOCy",
        "outputId": "a66aee5c-4442-4383-ab06-ba32150c6287"
      },
      "source": [
        "print(1-distance.cosine([3,5],[4,6]))\r\n",
        "print(1-distance.cosine([4,7,3,5],[4,7,4,6]))\r\n"
      ],
      "execution_count": null,
      "outputs": [
        {
          "output_type": "stream",
          "text": [
            "0.9988681377244375\n",
            "0.9941988341195412\n"
          ],
          "name": "stdout"
        }
      ]
    },
    {
      "cell_type": "code",
      "metadata": {
        "colab": {
          "base_uri": "https://localhost:8080/"
        },
        "id": "zC835QlB3YDk",
        "outputId": "bffa2b49-dbaf-41f9-ae92-7a11e412858e"
      },
      "source": [
        "#set train and test\r\n",
        "train=pd.read_csv('u1.base',sep='\\t',names=['user_id','item_id','rating','timestamp'])\r\n",
        "test=pd.read_csv('u1.test',sep='\\t',names=['user_id','item_id','rating','timestamp'])\r\n",
        "print(train['user_id'].value_counts())\r\n",
        "print(test.shape)"
      ],
      "execution_count": null,
      "outputs": [
        {
          "output_type": "stream",
          "text": [
            "655    685\n",
            "405    582\n",
            "450    494\n",
            "537    490\n",
            "416    417\n",
            "      ... \n",
            "93       9\n",
            "172      9\n",
            "258      8\n",
            "228      7\n",
            "310      4\n",
            "Name: user_id, Length: 943, dtype: int64\n",
            "(20000, 4)\n"
          ],
          "name": "stdout"
        }
      ]
    },
    {
      "cell_type": "code",
      "metadata": {
        "colab": {
          "base_uri": "https://localhost:8080/"
        },
        "id": "gXqj_Zy9UG2Y",
        "outputId": "51f88022-4804-4300-bcef-66bb1951d199"
      },
      "source": [
        "#for other folds just use u2,u3,u4,u5 instead of u1 and repeat\r\n",
        "train=pd.read_csv('u5.base',sep='\\t',names=['user_id','item_id','rating','timestamp'])\r\n",
        "test=pd.read_csv('u5.test',sep='\\t',names=['user_id','item_id','rating','timestamp'])\r\n",
        "print(train['user_id'].value_counts())\r\n",
        "print(test.shape)"
      ],
      "execution_count": null,
      "outputs": [
        {
          "output_type": "stream",
          "text": [
            "405    643\n",
            "13     585\n",
            "655    523\n",
            "450    483\n",
            "276    479\n",
            "      ... \n",
            "866      8\n",
            "941      7\n",
            "917      7\n",
            "895      6\n",
            "873      5\n",
            "Name: user_id, Length: 943, dtype: int64\n",
            "(20000, 4)\n"
          ],
          "name": "stdout"
        }
      ]
    },
    {
      "cell_type": "code",
      "metadata": {
        "colab": {
          "base_uri": "https://localhost:8080/"
        },
        "id": "aKDamQkO3awP",
        "outputId": "d7bd85be-4119-4f59-ef2e-e0beff32c8b4"
      },
      "source": [
        "#make user_id x item_it 2d array called ratings\r\n",
        "ratings = np.empty(shape=(944,1683))\r\n",
        "ratings[:] = np.nan\r\n",
        "#copy training data(given ratings) into 2d array\r\n",
        "for i in range(train.shape[0]):\r\n",
        "  #print(i)\r\n",
        "  temp = train.iloc[[i]]\r\n",
        "  ratings[temp['user_id'][i]][temp['item_id'][i]] = temp['rating'][i]\r\n",
        "print('copied')"
      ],
      "execution_count": null,
      "outputs": [
        {
          "output_type": "stream",
          "text": [
            "copied\n"
          ],
          "name": "stdout"
        }
      ]
    },
    {
      "cell_type": "code",
      "metadata": {
        "colab": {
          "base_uri": "https://localhost:8080/"
        },
        "id": "CVOWe3M3qshK",
        "outputId": "f16ff222-0f36-4c51-c8a4-4250b7218058"
      },
      "source": [
        "#preprocessing for k=10\r\n",
        "nb_10 = [[-1,-1,-1]]\r\n",
        "su_10 = [[-1,-1,-1]]\r\n",
        "\r\n",
        "for I in range(1,1683):\r\n",
        "  similar_arr=[]\r\n",
        "  neighbor_items = []\r\n",
        "  for item in range(1,1683):\r\n",
        "    if(item==I):\r\n",
        "      continue\r\n",
        "    #get similar items\r\n",
        "    q = np.argwhere(np.isnan(ratings[:,I])).ravel()#get list of indices of nan in I'th column of ratings (all users who rated Item I)\r\n",
        "    qq = np.argwhere(np.isnan(ratings[:,item])).ravel()#get list of indices of nan in item'th column of ratings (all users who rated Item item)\r\n",
        "    indexs = np.union1d(q,qq)#union both list of indices\r\n",
        "    similarity = 1 - distance.cosine(np.delete(ratings[:,I],indexs),np.delete(ratings[:,item],indexs))#delete those indices from both arrays and calculate similarity\r\n",
        "    if(np.isnan(similarity)==False):#sometimes ,no user rated both,so both array empty, and cosine of empty return nan, so handle nan\r\n",
        "      similar_arr.append(similarity)\r\n",
        "      neighbor_items.append(item)\r\n",
        "  #sort neighbor_items based on similar_arr\r\n",
        "  topK = [x for _,x in sorted(zip(similar_arr,neighbor_items),key=lambda x:x[0],reverse=True)]\r\n",
        "  similar_arr.sort(reverse=True)\r\n",
        "  #get top 10 neighbours\r\n",
        "  if(len(topK)>10):\r\n",
        "    topK = topK[0:10]\r\n",
        "    similar_arr = similar_arr[0:10]\r\n",
        "  #append neighbors to final_array\r\n",
        "  nb_10.append(topK)\r\n",
        "  su_10.append(similar_arr)\r\n",
        "\r\n",
        "  "
      ],
      "execution_count": null,
      "outputs": [
        {
          "output_type": "stream",
          "text": [
            "/usr/local/lib/python3.6/dist-packages/numpy/lib/function_base.py:380: RuntimeWarning: Mean of empty slice.\n",
            "  avg = a.mean(axis)\n",
            "/usr/local/lib/python3.6/dist-packages/numpy/core/_methods.py:170: RuntimeWarning: invalid value encountered in double_scalars\n",
            "  ret = ret.dtype.type(ret / rcount)\n"
          ],
          "name": "stderr"
        }
      ]
    },
    {
      "cell_type": "code",
      "metadata": {
        "colab": {
          "base_uri": "https://localhost:8080/"
        },
        "id": "SFfa8pHyBDtG",
        "outputId": "41fc8b4f-8462-4c06-fa2e-0eab0dc43fb1"
      },
      "source": [
        "#preprocessing for k=20\r\n",
        "#same logic as above\r\n",
        "nb_20 = [[-1,-1,-1]]\r\n",
        "su_20 = [[-1,-1,-1]]\r\n",
        "\r\n",
        "for I in range(1,1683):\r\n",
        "  similar_arr=[]\r\n",
        "  neighbor_items = []\r\n",
        "  for item in range(1,1683):\r\n",
        "    if(item==I):\r\n",
        "      continue\r\n",
        "    #get similar items\r\n",
        "    q = np.argwhere(np.isnan(ratings[:,I])).ravel()\r\n",
        "    qq = np.argwhere(np.isnan(ratings[:,item])).ravel()\r\n",
        "    indexs = np.union1d(q,qq)\r\n",
        "    similarity = 1 - distance.cosine(np.delete(ratings[:,I],indexs),np.delete(ratings[:,item],indexs))\r\n",
        "    if(np.isnan(similarity)==False):#no user rated both\r\n",
        "      similar_arr.append(similarity)\r\n",
        "      neighbor_items.append(item)\r\n",
        "  #sort neighbor_items based on similar_arr\r\n",
        "  topK = [x for _,x in sorted(zip(similar_arr,neighbor_items),key=lambda x:x[0],reverse=True)]\r\n",
        "  similar_arr.sort(reverse=True)\r\n",
        "  #take top 20 instead of top 10\r\n",
        "  if(len(topK)>20):\r\n",
        "    topK = topK[0:20]\r\n",
        "    similar_arr = similar_arr[0:20]\r\n",
        "\r\n",
        "  nb_20.append(topK)\r\n",
        "  su_20.append(similar_arr)\r\n",
        "\r\n",
        "  "
      ],
      "execution_count": null,
      "outputs": [
        {
          "output_type": "stream",
          "text": [
            "/usr/local/lib/python3.6/dist-packages/numpy/lib/function_base.py:380: RuntimeWarning: Mean of empty slice.\n",
            "  avg = a.mean(axis)\n",
            "/usr/local/lib/python3.6/dist-packages/numpy/core/_methods.py:170: RuntimeWarning: invalid value encountered in double_scalars\n",
            "  ret = ret.dtype.type(ret / rcount)\n"
          ],
          "name": "stderr"
        }
      ]
    },
    {
      "cell_type": "code",
      "metadata": {
        "colab": {
          "base_uri": "https://localhost:8080/"
        },
        "id": "6uPhqa_IBLga",
        "outputId": "1a18b66b-ddde-4b53-9946-c9b1dc74a839"
      },
      "source": [
        "#preprocessing for k=30\r\n",
        "nb_30 = [[-1,-1,-1]]\r\n",
        "su_30 = [[-1,-1,-1]]\r\n",
        "\r\n",
        "for I in range(1,1683):\r\n",
        "  similar_arr=[]\r\n",
        "  neighbor_items = []\r\n",
        "  for item in range(1,1683):\r\n",
        "    if(item==I):\r\n",
        "      continue\r\n",
        "    #get similar items\r\n",
        "    q = np.argwhere(np.isnan(ratings[:,I])).ravel()\r\n",
        "    qq = np.argwhere(np.isnan(ratings[:,item])).ravel()\r\n",
        "    indexs = np.union1d(q,qq)\r\n",
        "    similarity = 1 - distance.cosine(np.delete(ratings[:,I],indexs),np.delete(ratings[:,item],indexs))\r\n",
        "    if(np.isnan(similarity)==False):#no user rated both\r\n",
        "      similar_arr.append(similarity)\r\n",
        "      neighbor_items.append(item)\r\n",
        "  #sort neighbor_items based on similar_arr\r\n",
        "  topK = [x for _,x in sorted(zip(similar_arr,neighbor_items),key=lambda x:x[0],reverse=True)]\r\n",
        "  similar_arr.sort(reverse=True)\r\n",
        "  #take top 30 instead of 20\r\n",
        "  if(len(topK)>30):\r\n",
        "    topK = topK[0:30]\r\n",
        "    similar_arr = similar_arr[0:30]\r\n",
        "\r\n",
        "  nb_30.append(topK)\r\n",
        "  su_30.append(similar_arr)\r\n",
        "\r\n",
        "  "
      ],
      "execution_count": null,
      "outputs": [
        {
          "output_type": "stream",
          "text": [
            "/usr/local/lib/python3.6/dist-packages/numpy/lib/function_base.py:380: RuntimeWarning: Mean of empty slice.\n",
            "  avg = a.mean(axis)\n",
            "/usr/local/lib/python3.6/dist-packages/numpy/core/_methods.py:170: RuntimeWarning: invalid value encountered in double_scalars\n",
            "  ret = ret.dtype.type(ret / rcount)\n"
          ],
          "name": "stderr"
        }
      ]
    },
    {
      "cell_type": "code",
      "metadata": {
        "colab": {
          "base_uri": "https://localhost:8080/"
        },
        "id": "CT3TGnHGBTg-",
        "outputId": "0695d0aa-988e-4305-bd00-69c09636c033"
      },
      "source": [
        "#preprocessing for k=40\r\n",
        "nb_40 = [[-1,-1,-1]]\r\n",
        "su_40 = [[-1,-1,-1]]\r\n",
        "\r\n",
        "for I in range(1,1683):\r\n",
        "  similar_arr=[]\r\n",
        "  neighbor_items = []\r\n",
        "  for item in range(1,1683):\r\n",
        "    if(item==I):\r\n",
        "      continue\r\n",
        "    #get similar items\r\n",
        "    q = np.argwhere(np.isnan(ratings[:,I])).ravel()\r\n",
        "    qq = np.argwhere(np.isnan(ratings[:,item])).ravel()\r\n",
        "    indexs = np.union1d(q,qq)\r\n",
        "    similarity = 1 - distance.cosine(np.delete(ratings[:,I],indexs),np.delete(ratings[:,item],indexs))\r\n",
        "    if(np.isnan(similarity)==False):#no user rated both\r\n",
        "      similar_arr.append(similarity)\r\n",
        "      neighbor_items.append(item)\r\n",
        "  #sort neighbor_items based on similar_arr\r\n",
        "  topK = [x for _,x in sorted(zip(similar_arr,neighbor_items),key=lambda x:x[0],reverse=True)]\r\n",
        "  similar_arr.sort(reverse=True)\r\n",
        "  #take top 40\r\n",
        "  if(len(topK)>40):\r\n",
        "    topK = topK[0:40]\r\n",
        "    similar_arr = similar_arr[0:40]\r\n",
        "\r\n",
        "  nb_40.append(topK)\r\n",
        "  su_40.append(similar_arr)\r\n",
        "\r\n",
        "  "
      ],
      "execution_count": null,
      "outputs": [
        {
          "output_type": "stream",
          "text": [
            "/usr/local/lib/python3.6/dist-packages/numpy/lib/function_base.py:380: RuntimeWarning: Mean of empty slice.\n",
            "  avg = a.mean(axis)\n",
            "/usr/local/lib/python3.6/dist-packages/numpy/core/_methods.py:170: RuntimeWarning: invalid value encountered in double_scalars\n",
            "  ret = ret.dtype.type(ret / rcount)\n"
          ],
          "name": "stderr"
        }
      ]
    },
    {
      "cell_type": "code",
      "metadata": {
        "colab": {
          "base_uri": "https://localhost:8080/"
        },
        "id": "3lBMOegj24Xm",
        "outputId": "621cc7ea-b3be-4659-ff83-e13059ff70ef"
      },
      "source": [
        "nb_10[175]\r\n",
        "for x in nb_10[175]:\r\n",
        "  print(ratings[1][x])"
      ],
      "execution_count": null,
      "outputs": [
        {
          "output_type": "stream",
          "text": [
            "nan\n",
            "nan\n",
            "nan\n",
            "nan\n",
            "nan\n",
            "nan\n",
            "nan\n",
            "nan\n",
            "nan\n",
            "nan\n"
          ],
          "name": "stdout"
        }
      ]
    },
    {
      "cell_type": "code",
      "metadata": {
        "id": "t1KBqdPZ3lp0"
      },
      "source": [
        "def getR_itemBased(U,I,K):\r\n",
        "  # made case for k=10,20,30,40 but all 4 cases same logic\r\n",
        "  if(K==10):\r\n",
        "    #weighted avg of topK[U]\r\n",
        "    R_sum=0\r\n",
        "    R_denom_sum=0\r\n",
        "    #go through neighbours of item I\r\n",
        "    for i in range(min(K,len(nb_10[I]))):\r\n",
        "      #if user U rated neighbor i of item I\r\n",
        "      if(np.isnan(ratings[U][nb_10[I][i]])==False):\r\n",
        "        #weight the rating given by user U by item i's similarity with item I\r\n",
        "        R_sum += (su_10[I][i] * ratings[U][nb_10[I][i]])\r\n",
        "        R_denom_sum+=(su_10[I][i])\r\n",
        "    if(R_denom_sum==0):\r\n",
        "      #if user U did not rate any neihbor of item I then return 3 to minimize mae\r\n",
        "      return 3\r\n",
        "    else:\r\n",
        "      #return rating\r\n",
        "      return R_sum/R_denom_sum\r\n",
        "  #same logic for rest 3 cases\r\n",
        "  if(K==20):\r\n",
        "    R_sum=0\r\n",
        "    R_denom_sum=0\r\n",
        "    for i in range(min(K,len(nb_20[I]))):\r\n",
        "      if(np.isnan(ratings[U][nb_20[I][i]])==False):\r\n",
        "        R_sum += (su_20[I][i] * ratings[U][nb_20[I][i]])\r\n",
        "        R_denom_sum+=(su_20[I][i])\r\n",
        "    if(R_denom_sum==0):\r\n",
        "      return 3\r\n",
        "    else:\r\n",
        "      return R_sum/R_denom_sum\r\n",
        "  if(K==30):\r\n",
        "    #weighted avg of topK[U]\r\n",
        "    R_sum=0\r\n",
        "    R_denom_sum=0\r\n",
        "    for i in range(min(K,len(nb_30[I]))):\r\n",
        "      if(np.isnan(ratings[U][nb_30[I][i]])==False):\r\n",
        "        R_sum += (su_30[I][i] * ratings[U][nb_30[I][i]])\r\n",
        "        R_denom_sum+=(su_30[I][i])\r\n",
        "    if(R_denom_sum==0):\r\n",
        "      return 3\r\n",
        "    else:\r\n",
        "      return R_sum/R_denom_sum\r\n",
        "  if(K==40):\r\n",
        "    R_sum=0\r\n",
        "    R_denom_sum=0\r\n",
        "    for i in range(min(K,len(nb_40[I]))):\r\n",
        "      if(np.isnan(ratings[U][nb_40[I][i]])==False):\r\n",
        "        R_sum += (su_40[I][i] * ratings[U][nb_40[I][i]])\r\n",
        "        R_denom_sum+=(su_40[I][i])\r\n",
        "    if(R_denom_sum==0):\r\n",
        "      return 3\r\n",
        "    else:\r\n",
        "      return R_sum/R_denom_sum\r\n",
        "\r\n",
        "\r\n",
        "\r\n"
      ],
      "execution_count": null,
      "outputs": []
    },
    {
      "cell_type": "code",
      "metadata": {
        "colab": {
          "base_uri": "https://localhost:8080/"
        },
        "id": "E-VxDeNhBnk5",
        "outputId": "b94660c2-94b9-4958-a9c8-e5dffbbb4e7e"
      },
      "source": [
        "#calculate mae\r\n",
        "#K=10 fold 1\r\n",
        "mae_sum=0\r\n",
        "mae_cnt=0\r\n",
        "#go through test\r\n",
        "for i in range(test.shape[0]):\r\n",
        "  #print(i)\r\n",
        "  temp = test.iloc[[i]]\r\n",
        "  R = getR_itemBased(temp['user_id'][i],temp['item_id'][i],10)\r\n",
        "  #get rating for each test\r\n",
        "  if(np.isnan(R)==True ):\r\n",
        "    #this case never happens\r\n",
        "    print(temp)\r\n",
        "  mae_sum += abs(R - temp['rating'][i])\r\n",
        "  mae_cnt+=1   \r\n",
        "#calculate mae\r\n",
        "print('Fold 1 K=10 MAE : ',mae_sum/mae_cnt)\r\n",
        "\r\n",
        "#same logic for other K's and fold's"
      ],
      "execution_count": null,
      "outputs": [
        {
          "output_type": "stream",
          "text": [
            "Fold 1 K=10 MAE :  1.0796726388888884\n"
          ],
          "name": "stdout"
        }
      ]
    },
    {
      "cell_type": "code",
      "metadata": {
        "colab": {
          "base_uri": "https://localhost:8080/"
        },
        "id": "SI4a-Dc5A0cr",
        "outputId": "61df3ef2-3f7b-4d47-a7c3-42ed57810e85"
      },
      "source": [
        "#K=20 fold 1\r\n",
        "mae_sum=0\r\n",
        "mae_cnt=0\r\n",
        "for i in range(test.shape[0]):\r\n",
        "  #print(i)\r\n",
        "  temp = test.iloc[[i]]\r\n",
        "  R = getR_itemBased(temp['user_id'][i],temp['item_id'][i],20)\r\n",
        "  if(np.isnan(R)==True ):\r\n",
        "    print(temp)\r\n",
        "  mae_sum += abs(R - temp['rating'][i])\r\n",
        "  mae_cnt+=1   \r\n",
        "\r\n",
        "print('Fold 1 K=20 MAE : ',mae_sum/mae_cnt)\r\n",
        "\r\n"
      ],
      "execution_count": null,
      "outputs": [
        {
          "output_type": "stream",
          "text": [
            "Fold 1 K=20 MAE :  1.0970476571712606\n"
          ],
          "name": "stdout"
        }
      ]
    },
    {
      "cell_type": "code",
      "metadata": {
        "colab": {
          "base_uri": "https://localhost:8080/"
        },
        "id": "2OwdBEsQBuc7",
        "outputId": "49902097-8129-4c18-8187-6bbea454fe89"
      },
      "source": [
        "#K=30 fold 1\r\n",
        "mae_sum=0\r\n",
        "mae_cnt=0\r\n",
        "for i in range(test.shape[0]):\r\n",
        "  #print(i)\r\n",
        "  temp = test.iloc[[i]]\r\n",
        "  R = getR_itemBased(temp['user_id'][i],temp['item_id'][i],30)\r\n",
        "  if(np.isnan(R)==True ):\r\n",
        "    print(temp)\r\n",
        "  mae_sum += abs(R - temp['rating'][i])\r\n",
        "  mae_cnt+=1   \r\n",
        "\r\n",
        "print('Fold 1 K=30 MAE : ',mae_sum/mae_cnt)\r\n",
        "\r\n"
      ],
      "execution_count": null,
      "outputs": [
        {
          "output_type": "stream",
          "text": [
            "Fold 1 K=30 MAE :  1.1092734595526967\n"
          ],
          "name": "stdout"
        }
      ]
    },
    {
      "cell_type": "code",
      "metadata": {
        "colab": {
          "base_uri": "https://localhost:8080/"
        },
        "id": "BEZrX7__Byl8",
        "outputId": "b20c05e0-c51b-4ee8-fa8b-603af66e6064"
      },
      "source": [
        "#K=40 fold 1\r\n",
        "mae_sum=0\r\n",
        "mae_cnt=0\r\n",
        "for i in range(test.shape[0]):\r\n",
        "  #print(i)\r\n",
        "  temp = test.iloc[[i]]\r\n",
        "  R = getR_itemBased(temp['user_id'][i],temp['item_id'][i],40)\r\n",
        "  if(np.isnan(R)==True ):\r\n",
        "    print(temp)\r\n",
        "  mae_sum += abs(R - temp['rating'][i])\r\n",
        "  mae_cnt+=1   \r\n",
        "\r\n",
        "print('Fold 1 K=40 MAE : ',mae_sum/mae_cnt)\r\n",
        "\r\n"
      ],
      "execution_count": null,
      "outputs": [
        {
          "output_type": "stream",
          "text": [
            "Fold 1 K=40 MAE :  1.1165158104815145\n"
          ],
          "name": "stdout"
        }
      ]
    },
    {
      "cell_type": "code",
      "metadata": {
        "colab": {
          "base_uri": "https://localhost:8080/"
        },
        "id": "fGarQ0niT2mA",
        "outputId": "275c6ef8-9243-4f14-f208-d29b9785fcf3"
      },
      "source": [
        "#K=10 fold 2\r\n",
        "mae_sum=0\r\n",
        "mae_cnt=0\r\n",
        "for i in range(test.shape[0]):\r\n",
        "  #print(i)\r\n",
        "  temp = test.iloc[[i]]\r\n",
        "  R = getR_itemBased(temp['user_id'][i],temp['item_id'][i],10)\r\n",
        "  if(np.isnan(R)==True ):\r\n",
        "    print(temp)\r\n",
        "  mae_sum += abs(R - temp['rating'][i])\r\n",
        "  mae_cnt+=1   \r\n",
        "\r\n",
        "print('Fold 1 K=40 MAE : ',mae_sum/mae_cnt)\r\n",
        "\r\n"
      ],
      "execution_count": null,
      "outputs": [
        {
          "output_type": "stream",
          "text": [
            "Fold 1 K=40 MAE :  1.065570337301587\n"
          ],
          "name": "stdout"
        }
      ]
    },
    {
      "cell_type": "code",
      "metadata": {
        "colab": {
          "base_uri": "https://localhost:8080/"
        },
        "id": "yszICV_eT3aO",
        "outputId": "6b350196-30a9-4531-c08e-ff8e6e9cd2bb"
      },
      "source": [
        "#K=20 fold 2\r\n",
        "mae_sum=0\r\n",
        "mae_cnt=0\r\n",
        "for i in range(test.shape[0]):\r\n",
        "  #print(i)\r\n",
        "  temp = test.iloc[[i]]\r\n",
        "  R = getR_itemBased(temp['user_id'][i],temp['item_id'][i],20)\r\n",
        "  if(np.isnan(R)==True ):\r\n",
        "    print(temp)\r\n",
        "  mae_sum += abs(R - temp['rating'][i])\r\n",
        "  mae_cnt+=1   \r\n",
        "\r\n",
        "print('Fold 1 K=40 MAE : ',mae_sum/mae_cnt)\r\n",
        "\r\n"
      ],
      "execution_count": null,
      "outputs": [
        {
          "output_type": "stream",
          "text": [
            "Fold 1 K=40 MAE :  1.088287279930037\n"
          ],
          "name": "stdout"
        }
      ]
    },
    {
      "cell_type": "code",
      "metadata": {
        "colab": {
          "base_uri": "https://localhost:8080/"
        },
        "id": "E_ojIrr8T3g8",
        "outputId": "066ab8c4-f7dd-457e-fe80-7cc742ad35ea"
      },
      "source": [
        "#K=30 fold 2\r\n",
        "mae_sum=0\r\n",
        "mae_cnt=0\r\n",
        "for i in range(test.shape[0]):\r\n",
        "  #print(i)\r\n",
        "  temp = test.iloc[[i]]\r\n",
        "  R = getR_itemBased(temp['user_id'][i],temp['item_id'][i],30)\r\n",
        "  if(np.isnan(R)==True ):\r\n",
        "    print(temp)\r\n",
        "  mae_sum += abs(R - temp['rating'][i])\r\n",
        "  mae_cnt+=1   \r\n",
        "\r\n",
        "print('Fold 1 K=40 MAE : ',mae_sum/mae_cnt)\r\n",
        "\r\n"
      ],
      "execution_count": null,
      "outputs": [
        {
          "output_type": "stream",
          "text": [
            "Fold 1 K=40 MAE :  1.1026329648098856\n"
          ],
          "name": "stdout"
        }
      ]
    },
    {
      "cell_type": "code",
      "metadata": {
        "colab": {
          "base_uri": "https://localhost:8080/"
        },
        "id": "a6Z2AnZsT3oR",
        "outputId": "ea734ad1-5478-4f93-c3cc-b1e945c1d75b"
      },
      "source": [
        "#K=40 fold 2\r\n",
        "mae_sum=0\r\n",
        "mae_cnt=0\r\n",
        "for i in range(test.shape[0]):\r\n",
        "  #print(i)\r\n",
        "  temp = test.iloc[[i]]\r\n",
        "  R = getR_itemBased(temp['user_id'][i],temp['item_id'][i],40)\r\n",
        "  if(np.isnan(R)==True ):\r\n",
        "    print(temp)\r\n",
        "  mae_sum += abs(R - temp['rating'][i])\r\n",
        "  mae_cnt+=1   \r\n",
        "\r\n",
        "print('Fold 1 K=40 MAE : ',mae_sum/mae_cnt)\r\n",
        "\r\n"
      ],
      "execution_count": null,
      "outputs": [
        {
          "output_type": "stream",
          "text": [
            "Fold 1 K=40 MAE :  1.1086542602317127\n"
          ],
          "name": "stdout"
        }
      ]
    },
    {
      "cell_type": "code",
      "metadata": {
        "colab": {
          "base_uri": "https://localhost:8080/"
        },
        "id": "LI33woEfeXcb",
        "outputId": "40788be4-04c0-47b3-f567-640884ef7cb6"
      },
      "source": [
        "#K=10 fold 3\r\n",
        "mae_sum=0\r\n",
        "mae_cnt=0\r\n",
        "for i in range(test.shape[0]):\r\n",
        "  #print(i)\r\n",
        "  temp = test.iloc[[i]]\r\n",
        "  R = getR_itemBased(temp['user_id'][i],temp['item_id'][i],10)\r\n",
        "  if(np.isnan(R)==True ):\r\n",
        "    print(temp)\r\n",
        "  mae_sum += abs(R - temp['rating'][i])\r\n",
        "  mae_cnt+=1   \r\n",
        "\r\n",
        "print('Fold 3 K=10 MAE : ',mae_sum/mae_cnt)\r\n",
        "\r\n"
      ],
      "execution_count": null,
      "outputs": [
        {
          "output_type": "stream",
          "text": [
            "Fold 3 K=10 MAE :  1.0400490476190476\n"
          ],
          "name": "stdout"
        }
      ]
    },
    {
      "cell_type": "code",
      "metadata": {
        "colab": {
          "base_uri": "https://localhost:8080/"
        },
        "id": "zV1FHaFbezcd",
        "outputId": "7308341f-04d0-42d2-ffd6-566819220f21"
      },
      "source": [
        "#K=20 fold 3\r\n",
        "mae_sum=0\r\n",
        "mae_cnt=0\r\n",
        "for i in range(test.shape[0]):\r\n",
        "  #print(i)\r\n",
        "  temp = test.iloc[[i]]\r\n",
        "  R = getR_itemBased(temp['user_id'][i],temp['item_id'][i],20)\r\n",
        "  if(np.isnan(R)==True ):\r\n",
        "    print(temp)\r\n",
        "  mae_sum += abs(R - temp['rating'][i])\r\n",
        "  mae_cnt+=1   \r\n",
        "\r\n",
        "print('Fold 3 K=20 MAE : ',mae_sum/mae_cnt)\r\n",
        "\r\n"
      ],
      "execution_count": null,
      "outputs": [
        {
          "output_type": "stream",
          "text": [
            "Fold 3 K=20 MAE :  1.0543824472178156\n"
          ],
          "name": "stdout"
        }
      ]
    },
    {
      "cell_type": "code",
      "metadata": {
        "colab": {
          "base_uri": "https://localhost:8080/"
        },
        "id": "Syi2t-0Ne3oU",
        "outputId": "d9c2a62a-b7be-4cf1-a4c8-1d0e3e19d63f"
      },
      "source": [
        "#K=30 fold 3\r\n",
        "mae_sum=0\r\n",
        "mae_cnt=0\r\n",
        "for i in range(test.shape[0]):\r\n",
        "  #print(i)\r\n",
        "  temp = test.iloc[[i]]\r\n",
        "  R = getR_itemBased(temp['user_id'][i],temp['item_id'][i],30)\r\n",
        "  if(np.isnan(R)==True ):\r\n",
        "    print(temp)\r\n",
        "  mae_sum += abs(R - temp['rating'][i])\r\n",
        "  mae_cnt+=1   \r\n",
        "\r\n",
        "print('Fold 3 K=30 MAE : ',mae_sum/mae_cnt)\r\n",
        "\r\n"
      ],
      "execution_count": null,
      "outputs": [
        {
          "output_type": "stream",
          "text": [
            "Fold 3 K=30 MAE :  1.0615941935975013\n"
          ],
          "name": "stdout"
        }
      ]
    },
    {
      "cell_type": "code",
      "metadata": {
        "colab": {
          "base_uri": "https://localhost:8080/"
        },
        "id": "rwQofD_ee7-X",
        "outputId": "81845d8d-6ead-4aed-ce73-eb8a4de2326a"
      },
      "source": [
        "#K=40 fold 3\r\n",
        "mae_sum=0\r\n",
        "mae_cnt=0\r\n",
        "for i in range(test.shape[0]):\r\n",
        "  #print(i)\r\n",
        "  temp = test.iloc[[i]]\r\n",
        "  R = getR_itemBased(temp['user_id'][i],temp['item_id'][i],40)\r\n",
        "  if(np.isnan(R)==True ):\r\n",
        "    print(temp)\r\n",
        "  mae_sum += abs(R - temp['rating'][i])\r\n",
        "  mae_cnt+=1   \r\n",
        "\r\n",
        "print('Fold 3 K=40 MAE : ',mae_sum/mae_cnt)\r\n",
        "\r\n"
      ],
      "execution_count": null,
      "outputs": [
        {
          "output_type": "stream",
          "text": [
            "Fold 3 K=40 MAE :  1.0668443340867804\n"
          ],
          "name": "stdout"
        }
      ]
    },
    {
      "cell_type": "code",
      "metadata": {
        "colab": {
          "base_uri": "https://localhost:8080/"
        },
        "id": "EyiQZTYXt4RI",
        "outputId": "4fe3fed8-5e5d-44c4-b875-25447f14d0f0"
      },
      "source": [
        "#K=10 fold 4\r\n",
        "mae_sum=0\r\n",
        "mae_cnt=0\r\n",
        "for i in range(test.shape[0]):\r\n",
        "  #print(i)\r\n",
        "  temp = test.iloc[[i]]\r\n",
        "  R = getR_itemBased(temp['user_id'][i],temp['item_id'][i],10)\r\n",
        "  if(np.isnan(R)==True ):\r\n",
        "    print(temp)\r\n",
        "  mae_sum += abs(R - temp['rating'][i])\r\n",
        "  mae_cnt+=1   \r\n",
        "\r\n",
        "print('Fold 4 K=10 MAE : ',mae_sum/mae_cnt)\r\n",
        "\r\n"
      ],
      "execution_count": null,
      "outputs": [
        {
          "output_type": "stream",
          "text": [
            "Fold 4 K=10 MAE :  1.0344744047619054\n"
          ],
          "name": "stdout"
        }
      ]
    },
    {
      "cell_type": "code",
      "metadata": {
        "colab": {
          "base_uri": "https://localhost:8080/"
        },
        "id": "-TBskdvbt4WY",
        "outputId": "4625563c-9e8d-4c68-91c8-bc75c4015b20"
      },
      "source": [
        "#K=20 fold 4\r\n",
        "mae_sum=0\r\n",
        "mae_cnt=0\r\n",
        "for i in range(test.shape[0]):\r\n",
        "  #print(i)\r\n",
        "  temp = test.iloc[[i]]\r\n",
        "  R = getR_itemBased(temp['user_id'][i],temp['item_id'][i],20)\r\n",
        "  if(np.isnan(R)==True ):\r\n",
        "    print(temp)\r\n",
        "  mae_sum += abs(R - temp['rating'][i])\r\n",
        "  mae_cnt+=1   \r\n",
        "\r\n",
        "print('Fold 4 K=20 MAE : ',mae_sum/mae_cnt)\r\n",
        "\r\n"
      ],
      "execution_count": null,
      "outputs": [
        {
          "output_type": "stream",
          "text": [
            "Fold 4 K=20 MAE :  1.0505659146044022\n"
          ],
          "name": "stdout"
        }
      ]
    },
    {
      "cell_type": "code",
      "metadata": {
        "colab": {
          "base_uri": "https://localhost:8080/"
        },
        "id": "G3j7vMC5t4cb",
        "outputId": "c052359f-9252-49f9-a6bf-f3a5a0c3dcd4"
      },
      "source": [
        "#K=30 fold 4\r\n",
        "mae_sum=0\r\n",
        "mae_cnt=0\r\n",
        "for i in range(test.shape[0]):\r\n",
        "  #print(i)\r\n",
        "  temp = test.iloc[[i]]\r\n",
        "  R = getR_itemBased(temp['user_id'][i],temp['item_id'][i],30)\r\n",
        "  if(np.isnan(R)==True ):\r\n",
        "    print(temp)\r\n",
        "  mae_sum += abs(R - temp['rating'][i])\r\n",
        "  mae_cnt+=1   \r\n",
        "\r\n",
        "print('Fold 4 K=30 MAE : ',mae_sum/mae_cnt)\r\n",
        "\r\n"
      ],
      "execution_count": null,
      "outputs": [
        {
          "output_type": "stream",
          "text": [
            "Fold 4 K=30 MAE :  1.0585370620812244\n"
          ],
          "name": "stdout"
        }
      ]
    },
    {
      "cell_type": "code",
      "metadata": {
        "colab": {
          "base_uri": "https://localhost:8080/"
        },
        "id": "rcSWWAfHt4h8",
        "outputId": "3be404e7-dafc-4fef-ec0d-61284c72fb17"
      },
      "source": [
        "#K=40 fold 4\r\n",
        "mae_sum=0\r\n",
        "mae_cnt=0\r\n",
        "for i in range(test.shape[0]):\r\n",
        "  #print(i)\r\n",
        "  temp = test.iloc[[i]]\r\n",
        "  R = getR_itemBased(temp['user_id'][i],temp['item_id'][i],40)\r\n",
        "  if(np.isnan(R)==True ):\r\n",
        "    print(temp)\r\n",
        "  mae_sum += abs(R - temp['rating'][i])\r\n",
        "  mae_cnt+=1   \r\n",
        "\r\n",
        "print('Fold 4 K=40 MAE : ',mae_sum/mae_cnt)\r\n",
        "\r\n"
      ],
      "execution_count": null,
      "outputs": [
        {
          "output_type": "stream",
          "text": [
            "Fold 4 K=40 MAE :  1.063964437894584\n"
          ],
          "name": "stdout"
        }
      ]
    },
    {
      "cell_type": "code",
      "metadata": {
        "colab": {
          "base_uri": "https://localhost:8080/"
        },
        "id": "sxUYvnQWt4rW",
        "outputId": "c9dc57d6-e407-4435-d16f-1decf94dc706"
      },
      "source": [
        "#K=10 fold 5\r\n",
        "mae_sum=0\r\n",
        "mae_cnt=0\r\n",
        "for i in range(test.shape[0]):\r\n",
        "  #print(i)\r\n",
        "  temp = test.iloc[[i]]\r\n",
        "  R = getR_itemBased(temp['user_id'][i],temp['item_id'][i],10)\r\n",
        "  if(np.isnan(R)==True ):\r\n",
        "    print(temp)\r\n",
        "  mae_sum += abs(R - temp['rating'][i])\r\n",
        "  mae_cnt+=1   \r\n",
        "\r\n",
        "print('Fold 5 K=10 MAE : ',mae_sum/mae_cnt)\r\n",
        "\r\n"
      ],
      "execution_count": null,
      "outputs": [
        {
          "output_type": "stream",
          "text": [
            "Fold 5 K=10 MAE :  1.0338650198412693\n"
          ],
          "name": "stdout"
        }
      ]
    },
    {
      "cell_type": "code",
      "metadata": {
        "colab": {
          "base_uri": "https://localhost:8080/"
        },
        "id": "QCGhDUZ7t4xa",
        "outputId": "ed83d741-2213-4e3b-d3f7-f4af1da33545"
      },
      "source": [
        "#K=20 fold 5\r\n",
        "mae_sum=0\r\n",
        "mae_cnt=0\r\n",
        "for i in range(test.shape[0]):\r\n",
        "  #print(i)\r\n",
        "  temp = test.iloc[[i]]\r\n",
        "  R = getR_itemBased(temp['user_id'][i],temp['item_id'][i],20)\r\n",
        "  if(np.isnan(R)==True ):\r\n",
        "    print(temp)\r\n",
        "  mae_sum += abs(R - temp['rating'][i])\r\n",
        "  mae_cnt+=1   \r\n",
        "\r\n",
        "print('Fold 5 K=20 MAE : ',mae_sum/mae_cnt)\r\n",
        "\r\n"
      ],
      "execution_count": null,
      "outputs": [
        {
          "output_type": "stream",
          "text": [
            "Fold 5 K=20 MAE :  1.0516416391982208\n"
          ],
          "name": "stdout"
        }
      ]
    },
    {
      "cell_type": "code",
      "metadata": {
        "colab": {
          "base_uri": "https://localhost:8080/"
        },
        "id": "MWmytQSgt42-",
        "outputId": "eadd2eaa-a29d-442d-ca1c-cf40832cb1ba"
      },
      "source": [
        "#K=30 fold 5\r\n",
        "mae_sum=0\r\n",
        "mae_cnt=0\r\n",
        "for i in range(test.shape[0]):\r\n",
        "  #print(i)\r\n",
        "  temp = test.iloc[[i]]\r\n",
        "  R = getR_itemBased(temp['user_id'][i],temp['item_id'][i],30)\r\n",
        "  if(np.isnan(R)==True ):\r\n",
        "    print(temp)\r\n",
        "  mae_sum += abs(R - temp['rating'][i])\r\n",
        "  mae_cnt+=1   \r\n",
        "\r\n",
        "print('Fold 5 K=30 MAE : ',mae_sum/mae_cnt)\r\n",
        "\r\n"
      ],
      "execution_count": null,
      "outputs": [
        {
          "output_type": "stream",
          "text": [
            "Fold 5 K=30 MAE :  1.0591625722255642\n"
          ],
          "name": "stdout"
        }
      ]
    },
    {
      "cell_type": "code",
      "metadata": {
        "colab": {
          "base_uri": "https://localhost:8080/"
        },
        "id": "Bq1umiFPt48m",
        "outputId": "09d3154d-6df0-427d-d543-546eb6faa754"
      },
      "source": [
        "#K=40 fold 5\r\n",
        "mae_sum=0\r\n",
        "mae_cnt=0\r\n",
        "for i in range(test.shape[0]):\r\n",
        "  #print(i)\r\n",
        "  temp = test.iloc[[i]]\r\n",
        "  R = getR_itemBased(temp['user_id'][i],temp['item_id'][i],40)\r\n",
        "  if(np.isnan(R)==True ):\r\n",
        "    print(temp)\r\n",
        "  mae_sum += abs(R - temp['rating'][i])\r\n",
        "  mae_cnt+=1   \r\n",
        "\r\n",
        "print('Fold 5 K=40 MAE : ',mae_sum/mae_cnt)\r\n",
        "\r\n"
      ],
      "execution_count": null,
      "outputs": [
        {
          "output_type": "stream",
          "text": [
            "Fold 5 K=40 MAE :  1.0651021162820047\n"
          ],
          "name": "stdout"
        }
      ]
    }
  ]
}