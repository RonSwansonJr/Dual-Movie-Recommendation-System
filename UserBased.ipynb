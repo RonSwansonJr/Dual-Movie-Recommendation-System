{
  "nbformat": 4,
  "nbformat_minor": 0,
  "metadata": {
    "colab": {
      "name": "CF_ASS1_UserBased.ipynb",
      "provenance": [],
      "collapsed_sections": []
    },
    "kernelspec": {
      "name": "python3",
      "display_name": "Python 3"
    }
  },
  "cells": [
    {
      "cell_type": "code",
      "metadata": {
        "id": "6zrgh_BZxesk"
      },
      "source": [
        "import pandas as pd\r\n",
        "import numpy as np\r\n",
        "from scipy.spatial import distance"
      ],
      "execution_count": null,
      "outputs": []
    },
    {
      "cell_type": "code",
      "metadata": {
        "colab": {
          "base_uri": "https://localhost:8080/"
        },
        "id": "yIZmtwBGp12m",
        "outputId": "4a7b2993-b2c1-4ab3-c4a3-183d0c6fdfc4"
      },
      "source": [
        "df1 = pd.read_csv('u.data',sep='\\t',names=['user_id','item_id','rating','timestamp'])\r\n",
        "print(df1)"
      ],
      "execution_count": null,
      "outputs": [
        {
          "output_type": "stream",
          "text": [
            "       user_id  item_id  rating  timestamp\n",
            "0          196      242       3  881250949\n",
            "1          186      302       3  891717742\n",
            "2           22      377       1  878887116\n",
            "3          244       51       2  880606923\n",
            "4          166      346       1  886397596\n",
            "...        ...      ...     ...        ...\n",
            "99995      880      476       3  880175444\n",
            "99996      716      204       5  879795543\n",
            "99997      276     1090       1  874795795\n",
            "99998       13      225       2  882399156\n",
            "99999       12      203       3  879959583\n",
            "\n",
            "[100000 rows x 4 columns]\n"
          ],
          "name": "stdout"
        }
      ]
    },
    {
      "cell_type": "code",
      "metadata": {
        "colab": {
          "base_uri": "https://localhost:8080/"
        },
        "id": "KDjScRTIrddK",
        "outputId": "329780e0-8406-40e1-b51b-83cdcc8e44f9"
      },
      "source": [
        "#set train and test\r\n",
        "train=pd.read_csv('u1.base',sep='\\t',names=['user_id','item_id','rating','timestamp'])\r\n",
        "test=pd.read_csv('u1.test',sep='\\t',names=['user_id','item_id','rating','timestamp'])\r\n",
        "print(train['user_id'].value_counts())"
      ],
      "execution_count": null,
      "outputs": [
        {
          "output_type": "stream",
          "text": [
            "655    685\n",
            "405    582\n",
            "450    494\n",
            "537    490\n",
            "416    417\n",
            "      ... \n",
            "93       9\n",
            "172      9\n",
            "258      8\n",
            "228      7\n",
            "310      4\n",
            "Name: user_id, Length: 943, dtype: int64\n"
          ],
          "name": "stdout"
        }
      ]
    },
    {
      "cell_type": "code",
      "metadata": {
        "colab": {
          "base_uri": "https://localhost:8080/"
        },
        "id": "GZsqCbT8kvGe",
        "outputId": "020d77c3-b067-40e1-f4f4-6784e0fe6065"
      },
      "source": [
        "#make user_id x item_it array\r\n",
        "#same as before ratings 2d array\r\n",
        "ratings = np.empty(shape=(944,1683))\r\n",
        "ratings[:] = np.nan\r\n",
        "#copy training data(given ratings) into 2d array\r\n",
        "for i in range(train.shape[0]):\r\n",
        "  #print(i)\r\n",
        "  temp = train.iloc[[i]]\r\n",
        "  ratings[temp['user_id'][i]][temp['item_id'][i]] = temp['rating'][i]\r\n",
        "print('copied')\r\n",
        "\r\n"
      ],
      "execution_count": null,
      "outputs": [
        {
          "output_type": "stream",
          "text": [
            "copied\n"
          ],
          "name": "stdout"
        }
      ]
    },
    {
      "cell_type": "code",
      "metadata": {
        "colab": {
          "base_uri": "https://localhost:8080/"
        },
        "id": "3NTCtnnq-z2H",
        "outputId": "2443c67a-64de-4220-ce2f-169135e0da81"
      },
      "source": [
        "import copy \r\n",
        "real_ratings = copy.deepcopy(ratings)\r\n",
        "print(real_ratings)"
      ],
      "execution_count": null,
      "outputs": [
        {
          "output_type": "stream",
          "text": [
            "[[nan nan nan ... nan nan nan]\n",
            " [nan  5.  3. ... nan nan nan]\n",
            " [nan  4. nan ... nan nan nan]\n",
            " ...\n",
            " [nan nan nan ... nan nan nan]\n",
            " [nan nan nan ... nan nan nan]\n",
            " [nan nan nan ... nan nan nan]]\n"
          ],
          "name": "stdout"
        }
      ]
    },
    {
      "cell_type": "code",
      "metadata": {
        "colab": {
          "base_uri": "https://localhost:8080/"
        },
        "id": "AWoOZMBkE3ic",
        "outputId": "f8f9f3a3-45ec-4dc4-c0e5-8a10eb4b441d"
      },
      "source": [
        "lis1 = []\r\n",
        "lis2 = []\r\n",
        "for i in range(1,1683):\r\n",
        "  if(np.isnan(ratings[1][i])==True or np.isnan(ratings[2][i])==True):\r\n",
        "    1+1#do nothing\r\n",
        "  else:\r\n",
        "    lis1.append(ratings[1][i])\r\n",
        "    lis2.append(ratings[2][i])\r\n",
        "print(1-distance.cosine(lis1,lis2))"
      ],
      "execution_count": null,
      "outputs": [
        {
          "output_type": "stream",
          "text": [
            "0.9617502293473265\n"
          ],
          "name": "stdout"
        }
      ]
    },
    {
      "cell_type": "code",
      "metadata": {
        "id": "wiB_XagOq26U",
        "colab": {
          "base_uri": "https://localhost:8080/"
        },
        "outputId": "aa973d88-3bc5-4461-b6fb-7e2f497e7e9f"
      },
      "source": [
        "#preprocess neighbours for tau=0.4\r\n",
        "#same as before, but this time users so 2 nested loops each of 943\r\n",
        "nb_4 = []\r\n",
        "su_4 = []\r\n",
        "for U in range(1,944):\r\n",
        "  # print(U)\r\n",
        "  nb = []\r\n",
        "  su = []\r\n",
        "  for user in range(1,944):\r\n",
        "    if(user==U):\r\n",
        "      continue\r\n",
        "    q = np.argwhere(np.isnan(ratings[U])).ravel()\r\n",
        "    qq = np.argwhere(np.isnan(ratings[user])).ravel()\r\n",
        "    indexs = np.union1d(q,qq)\r\n",
        "    #same as before, removing nan in both\r\n",
        "    # print('--------------------')\r\n",
        "    # print(np.delete(ratings[U],indexs))\r\n",
        "    # print(np.delete(ratings[user],indexs))\r\n",
        "\r\n",
        "    similarity = 1 - distance.cosine(np.delete(ratings[U],indexs),np.delete(ratings[user],indexs))\r\n",
        "    #calc similarity\r\n",
        "    if(np.isnan(similarity)==True or similarity > 1 or similarity < 0):\r\n",
        "      similarity=0\r\n",
        "    # print(similarity)\r\n",
        "    # print('----------------------')\r\n",
        "    #threshold tau>=0.4\r\n",
        "    if(similarity>=0.4):\r\n",
        "      nb.append(user)\r\n",
        "      su.append(similarity)\r\n",
        "  nb_4.append(nb)\r\n",
        "  su_4.append(su)\r\n",
        "\r\n",
        "\r\n",
        "\r\n",
        "\r\n"
      ],
      "execution_count": null,
      "outputs": [
        {
          "output_type": "stream",
          "text": [
            "/usr/local/lib/python3.6/dist-packages/numpy/lib/function_base.py:380: RuntimeWarning: Mean of empty slice.\n",
            "  avg = a.mean(axis)\n",
            "/usr/local/lib/python3.6/dist-packages/numpy/core/_methods.py:170: RuntimeWarning: invalid value encountered in double_scalars\n",
            "  ret = ret.dtype.type(ret / rcount)\n"
          ],
          "name": "stderr"
        }
      ]
    },
    {
      "cell_type": "code",
      "metadata": {
        "colab": {
          "base_uri": "https://localhost:8080/"
        },
        "id": "pvybMC4zCtvk",
        "outputId": "4e13c020-bd4d-4b93-e964-1e9c28e4dcfc"
      },
      "source": [
        "#preprocess neighbours for tau=0.5\r\n",
        "#same as previous only difference tau>=0.5\r\n",
        "nb_5 = []\r\n",
        "su_5 = []\r\n",
        "for U in range(1,944):\r\n",
        "  # print(U)\r\n",
        "  nb = []\r\n",
        "  su = []\r\n",
        "  for user in range(1,944):\r\n",
        "    if(user==U):\r\n",
        "      continue\r\n",
        "    q = np.argwhere(np.isnan(ratings[U])).ravel()\r\n",
        "    qq = np.argwhere(np.isnan(ratings[user])).ravel()\r\n",
        "    indexs = np.union1d(q,qq)\r\n",
        "    # print('--------------------')\r\n",
        "    # print(np.delete(ratings[U],indexs))\r\n",
        "    # print(np.delete(ratings[user],indexs))\r\n",
        "\r\n",
        "    similarity = 1 - distance.cosine(np.delete(ratings[U],indexs),np.delete(ratings[user],indexs))\r\n",
        "    if(np.isnan(similarity)==True or similarity > 1 or similarity < 0):\r\n",
        "      similarity=0\r\n",
        "    # print(similarity)\r\n",
        "    # print('----------------------')\r\n",
        "    #only difference\r\n",
        "    if(similarity>=0.5):\r\n",
        "      nb.append(user)\r\n",
        "      su.append(similarity)\r\n",
        "  nb_5.append(nb)\r\n",
        "  su_5.append(su)\r\n",
        "\r\n",
        "\r\n",
        "\r\n",
        "\r\n"
      ],
      "execution_count": null,
      "outputs": [
        {
          "output_type": "stream",
          "text": [
            "/usr/local/lib/python3.6/dist-packages/numpy/lib/function_base.py:380: RuntimeWarning: Mean of empty slice.\n",
            "  avg = a.mean(axis)\n",
            "/usr/local/lib/python3.6/dist-packages/numpy/core/_methods.py:170: RuntimeWarning: invalid value encountered in double_scalars\n",
            "  ret = ret.dtype.type(ret / rcount)\n"
          ],
          "name": "stderr"
        }
      ]
    },
    {
      "cell_type": "code",
      "metadata": {
        "colab": {
          "base_uri": "https://localhost:8080/"
        },
        "id": "ASD8wSz3C6OI",
        "outputId": "19d130d9-f161-4500-c80e-f3726c673cc8"
      },
      "source": [
        "#preprocess neighbours for tau=0.6\r\n",
        "nb_6 = []\r\n",
        "su_6 = []\r\n",
        "for U in range(1,944):\r\n",
        "  # print(U)\r\n",
        "  nb = []\r\n",
        "  su = []\r\n",
        "  for user in range(1,944):\r\n",
        "    if(user==U):\r\n",
        "      continue\r\n",
        "    q = np.argwhere(np.isnan(ratings[U])).ravel()\r\n",
        "    qq = np.argwhere(np.isnan(ratings[user])).ravel()\r\n",
        "    indexs = np.union1d(q,qq)\r\n",
        "    # print('--------------------')\r\n",
        "    # print(np.delete(ratings[U],indexs))\r\n",
        "    # print(np.delete(ratings[user],indexs))\r\n",
        "\r\n",
        "    similarity = 1 - distance.cosine(np.delete(ratings[U],indexs),np.delete(ratings[user],indexs))\r\n",
        "    if(np.isnan(similarity)==True or similarity > 1 or similarity < 0):\r\n",
        "      similarity=0\r\n",
        "    # print(similarity)\r\n",
        "    # print('----------------------')\r\n",
        "    if(similarity>=0.6):\r\n",
        "      nb.append(user)\r\n",
        "      su.append(similarity)\r\n",
        "  nb_6.append(nb)\r\n",
        "  su_6.append(su)\r\n",
        "\r\n",
        "\r\n",
        "\r\n",
        "\r\n"
      ],
      "execution_count": null,
      "outputs": [
        {
          "output_type": "stream",
          "text": [
            "/usr/local/lib/python3.6/dist-packages/numpy/lib/function_base.py:380: RuntimeWarning: Mean of empty slice.\n",
            "  avg = a.mean(axis)\n",
            "/usr/local/lib/python3.6/dist-packages/numpy/core/_methods.py:170: RuntimeWarning: invalid value encountered in double_scalars\n",
            "  ret = ret.dtype.type(ret / rcount)\n"
          ],
          "name": "stderr"
        }
      ]
    },
    {
      "cell_type": "code",
      "metadata": {
        "colab": {
          "base_uri": "https://localhost:8080/"
        },
        "id": "kke2LsKVDEx5",
        "outputId": "b744ca58-b10e-454a-c245-69b7a938a6a1"
      },
      "source": [
        "#preprocess neighbours for tau=0.7\r\n",
        "nb_7 = []\r\n",
        "su_7 = []\r\n",
        "for U in range(1,944):\r\n",
        "  # print(U)\r\n",
        "  nb = []\r\n",
        "  su = []\r\n",
        "  for user in range(1,944):\r\n",
        "    if(user==U):\r\n",
        "      continue\r\n",
        "    q = np.argwhere(np.isnan(ratings[U])).ravel()\r\n",
        "    qq = np.argwhere(np.isnan(ratings[user])).ravel()\r\n",
        "    indexs = np.union1d(q,qq)\r\n",
        "    # print('--------------------')\r\n",
        "    # print(np.delete(ratings[U],indexs))\r\n",
        "    # print(np.delete(ratings[user],indexs))\r\n",
        "\r\n",
        "    similarity = 1 - distance.cosine(np.delete(ratings[U],indexs),np.delete(ratings[user],indexs))\r\n",
        "    if(np.isnan(similarity)==True or similarity > 1 or similarity < 0):\r\n",
        "      similarity=0\r\n",
        "    # print(similarity)\r\n",
        "    # print('----------------------')\r\n",
        "    if(similarity>=0.7):\r\n",
        "      nb.append(user)\r\n",
        "      su.append(similarity)\r\n",
        "  nb_7.append(nb)\r\n",
        "  su_7.append(su)\r\n",
        "\r\n",
        "\r\n",
        "\r\n",
        "\r\n"
      ],
      "execution_count": null,
      "outputs": [
        {
          "output_type": "stream",
          "text": [
            "/usr/local/lib/python3.6/dist-packages/numpy/lib/function_base.py:380: RuntimeWarning: Mean of empty slice.\n",
            "  avg = a.mean(axis)\n",
            "/usr/local/lib/python3.6/dist-packages/numpy/core/_methods.py:170: RuntimeWarning: invalid value encountered in double_scalars\n",
            "  ret = ret.dtype.type(ret / rcount)\n"
          ],
          "name": "stderr"
        }
      ]
    },
    {
      "cell_type": "code",
      "metadata": {
        "id": "ecM_AFi6mqiH"
      },
      "source": [
        "#User U rates I \r\n",
        "def getR_4(U,I):\r\n",
        "  #getR_4 --> User U rates item I with tau>=0.4\r\n",
        "  #take weighted average\r\n",
        "  avg_sum=0\r\n",
        "  sum_su =0\r\n",
        "  #go through neihbours of user U\r\n",
        "  for i in range(len(nb_4[U-1])):\r\n",
        "    #if neighbour of U rated I\r\n",
        "    if(np.isnan(ratings[nb_4[U-1][i]][I])==False):\r\n",
        "      #weight rating by similarity\r\n",
        "      avg_sum += (su_4[U-1][i] * ratings[nb_4[U-1][i]][I])\r\n",
        "      sum_su += (su_4[U-1][i])\r\n",
        "  \r\n",
        "  if(sum_su==0):\r\n",
        "    #no neighbour has rated I, so minimize mae\r\n",
        "    R=3\r\n",
        "  else:\r\n",
        "    R = avg_sum/sum_su\r\n",
        "\r\n",
        "  return R\r\n",
        "\r\n"
      ],
      "execution_count": null,
      "outputs": []
    },
    {
      "cell_type": "code",
      "metadata": {
        "id": "ENtFqw7IDS1B"
      },
      "source": [
        "#User U rates I \r\n",
        "def getR_5(U,I):\r\n",
        "  #tau>=0.5\r\n",
        "  #same as prev\r\n",
        "  #take weighted average\r\n",
        "  avg_sum=0\r\n",
        "  sum_su =0\r\n",
        "  for i in range(len(nb_5[U-1])):\r\n",
        "    if(np.isnan(ratings[nb_5[U-1][i]][I])==False):\r\n",
        "      avg_sum += (su_5[U-1][i] * ratings[nb_5[U-1][i]][I])\r\n",
        "      sum_su += (su_5[U-1][i])\r\n",
        "  \r\n",
        "  if(sum_su==0):\r\n",
        "    #no neighbour has rated I, so minimize mae\r\n",
        "    R=3\r\n",
        "  else:\r\n",
        "    R = avg_sum/sum_su\r\n",
        "\r\n",
        "  return R\r\n",
        "\r\n"
      ],
      "execution_count": null,
      "outputs": []
    },
    {
      "cell_type": "code",
      "metadata": {
        "id": "faN4BUsUDiHe"
      },
      "source": [
        "#User U rates I \r\n",
        "def getR_6(U,I):\r\n",
        "  #tau>=0.6\r\n",
        "  #take weighted average\r\n",
        "  avg_sum=0\r\n",
        "  sum_su =0\r\n",
        "  for i in range(len(nb_6[U-1])):\r\n",
        "    if(np.isnan(ratings[nb_6[U-1][i]][I])==False):\r\n",
        "      avg_sum += (su_6[U-1][i] * ratings[nb_6[U-1][i]][I])\r\n",
        "      sum_su += (su_6[U-1][i])\r\n",
        "  \r\n",
        "  if(sum_su==0):\r\n",
        "    #no neighbour has rated I, so minimize mae\r\n",
        "    R=3\r\n",
        "  else:\r\n",
        "    R = avg_sum/sum_su\r\n",
        "\r\n",
        "  return R\r\n",
        "\r\n"
      ],
      "execution_count": null,
      "outputs": []
    },
    {
      "cell_type": "code",
      "metadata": {
        "id": "NRaMXaOsDsDk"
      },
      "source": [
        "#User U rates I \r\n",
        "def getR_7(U,I):\r\n",
        "  #tau>=0.7\r\n",
        "  #take weighted average\r\n",
        "  avg_sum=0\r\n",
        "  sum_su =0\r\n",
        "  for i in range(len(nb_7[U-1])):\r\n",
        "    if(np.isnan(ratings[nb_7[U-1][i]][I])==False):\r\n",
        "      avg_sum += (su_7[U-1][i] * ratings[nb_7[U-1][i]][I])\r\n",
        "      sum_su += (su_7[U-1][i])\r\n",
        "  \r\n",
        "  if(sum_su==0):\r\n",
        "    #no neighbour has rated I, so minimize mae\r\n",
        "    R=3\r\n",
        "  else:\r\n",
        "    R = avg_sum/sum_su\r\n",
        "\r\n",
        "  return R\r\n",
        "\r\n"
      ],
      "execution_count": null,
      "outputs": []
    },
    {
      "cell_type": "code",
      "metadata": {
        "colab": {
          "base_uri": "https://localhost:8080/"
        },
        "id": "5VRayVGZyOqZ",
        "outputId": "97f1a78c-9cf0-45c5-da40-d7e1045e8a83"
      },
      "source": [
        "#tau=0.4 fold 1\r\n",
        "#calc mae\r\n",
        "mae_sum=0\r\n",
        "mae_cnt=0\r\n",
        "for i in range(test.shape[0]):\r\n",
        "  \r\n",
        "  temp = test.iloc[[i]]\r\n",
        "  R = getR_4(temp['user_id'][i],temp['item_id'][i])\r\n",
        "  mae_sum += abs(R - temp['rating'][i])\r\n",
        "  mae_cnt+=1   \r\n",
        "\r\n",
        "print('Fold 1 Tau=0.4 MAE : ',mae_sum/mae_cnt)\r\n",
        "\r\n",
        "#similar for other tau's and for different fold change u1 --> u2-->u3....-->u5\r\n"
      ],
      "execution_count": null,
      "outputs": [
        {
          "output_type": "stream",
          "text": [
            "Fold 1 Tau=0.4 MAE :  0.82755417464426\n"
          ],
          "name": "stdout"
        }
      ]
    },
    {
      "cell_type": "code",
      "metadata": {
        "id": "3TrrjORROAKO",
        "colab": {
          "base_uri": "https://localhost:8080/"
        },
        "outputId": "1497beab-94c7-4e49-c745-2d3bebcb49e0"
      },
      "source": [
        "\r\n",
        "#tau=0.5 fold 1\r\n",
        "mae_sum=0\r\n",
        "mae_cnt=0\r\n",
        "for i in range(test.shape[0]):\r\n",
        "  #print(i)\r\n",
        "  temp = test.iloc[[i]]\r\n",
        "  R = getR_5(temp['user_id'][i],temp['item_id'][i])\r\n",
        "  mae_sum += abs(R - temp['rating'][i])\r\n",
        "  mae_cnt+=1   \r\n",
        "\r\n",
        "print('Fold 1 Tau=0.5 MAE : ',mae_sum/mae_cnt)\r\n",
        "\r\n",
        "\r\n",
        "\r\n"
      ],
      "execution_count": null,
      "outputs": [
        {
          "output_type": "stream",
          "text": [
            "Fold 1 Tau=0.5 MAE :  0.8275309390033723\n"
          ],
          "name": "stdout"
        }
      ]
    },
    {
      "cell_type": "code",
      "metadata": {
        "id": "0ri-rneBOo4L",
        "colab": {
          "base_uri": "https://localhost:8080/"
        },
        "outputId": "d5923326-1960-4c93-88df-278031a1d28c"
      },
      "source": [
        "#tau=0.6 fold 1\r\n",
        "mae_sum=0\r\n",
        "mae_cnt=0\r\n",
        "for i in range(test.shape[0]):\r\n",
        "  #print(i)\r\n",
        "  temp = test.iloc[[i]]\r\n",
        "  R = getR_6(temp['user_id'][i],temp['item_id'][i])\r\n",
        "  mae_sum += abs(R - temp['rating'][i])\r\n",
        "  mae_cnt+=1   \r\n",
        "\r\n",
        "print('Fold 1 Tau=0.6 MAE : ',mae_sum/mae_cnt)"
      ],
      "execution_count": null,
      "outputs": [
        {
          "output_type": "stream",
          "text": [
            "Fold 1 Tau=0.6 MAE :  0.8275423378596213\n"
          ],
          "name": "stdout"
        }
      ]
    },
    {
      "cell_type": "code",
      "metadata": {
        "id": "-eRnFIHhOrP7",
        "colab": {
          "base_uri": "https://localhost:8080/"
        },
        "outputId": "b558cc4c-84e7-4aca-c04c-03ddfa13a8b0"
      },
      "source": [
        "#tau=0.7 fold 1\r\n",
        "mae_sum=0\r\n",
        "mae_cnt=0\r\n",
        "for i in range(test.shape[0]):\r\n",
        "  #print(i)\r\n",
        "  temp = test.iloc[[i]]\r\n",
        "  R = getR_7(temp['user_id'][i],temp['item_id'][i])\r\n",
        "  mae_sum += abs(R - temp['rating'][i])\r\n",
        "  mae_cnt+=1   \r\n",
        "\r\n",
        "print('Fold 1 Tau=0.7 MAE : ',mae_sum/mae_cnt)"
      ],
      "execution_count": null,
      "outputs": [
        {
          "output_type": "stream",
          "text": [
            "Fold 1 Tau=0.7 MAE :  0.8275704686670641\n"
          ],
          "name": "stdout"
        }
      ]
    },
    {
      "cell_type": "code",
      "metadata": {
        "colab": {
          "base_uri": "https://localhost:8080/"
        },
        "id": "NMkQPjVPHG31",
        "outputId": "e8394dde-6c1d-4289-b981-467448abd83f"
      },
      "source": [
        "q = np.argwhere(np.isnan(ratings[1])).ravel()\r\n",
        "qq = np.argwhere(np.isnan(ratings[22])).ravel()\r\n",
        "indexs = np.union1d(q,qq)\r\n",
        "# print('--------------------')\r\n",
        "# print(np.delete(ratings[U],indexs))\r\n",
        "# print(np.delete(ratings[user],indexs))\r\n",
        "\r\n",
        "similarity = 1 - distance.cosine(np.delete(ratings[1],indexs),np.delete(ratings[22],indexs))\r\n",
        "\r\n",
        "lis1 = []\r\n",
        "lis2 = []\r\n",
        "for i in range(1,1683):\r\n",
        "  if(np.isnan(ratings[1][i]) == True or np.isnan(ratings[22][i])==True):\r\n",
        "    1+1\r\n",
        "  else:\r\n",
        "    lis1.append(ratings[1][i])\r\n",
        "    lis2.append(ratings[22][i])\r\n",
        "print(similarity)\r\n",
        "print(1-distance.cosine(lis1,lis2))"
      ],
      "execution_count": null,
      "outputs": [
        {
          "output_type": "stream",
          "text": [
            "0.9595548606619674\n",
            "0.9595548606619674\n"
          ],
          "name": "stdout"
        }
      ]
    },
    {
      "cell_type": "code",
      "metadata": {
        "id": "B35HCpfROwvZ"
      },
      "source": [
        "#Fold 2\r\n",
        "train=pd.read_csv('u2.base',sep='\\t',names=['user_id','item_id','rating','timestamp'])\r\n",
        "test=pd.read_csv('u2.test',sep='\\t',names=['user_id','item_id','rating','timestamp'])\r\n",
        "#make user_id x item_it array\r\n",
        "ratings = np.empty(shape=(944,1683))\r\n",
        "ratings[:] = np.nan\r\n",
        "#copy training data(given ratings) into 2d array\r\n",
        "for i in range(train.shape[0]):\r\n",
        "  #print(i)\r\n",
        "  temp = train.iloc[[i]]\r\n",
        "  ratings[temp['user_id'][i]][temp['item_id'][i]] = temp['rating'][i]"
      ],
      "execution_count": null,
      "outputs": []
    },
    {
      "cell_type": "code",
      "metadata": {
        "id": "YMWVlZ8cO5dm",
        "colab": {
          "base_uri": "https://localhost:8080/"
        },
        "outputId": "b782b200-bca8-4869-b9b4-5822943d3d66"
      },
      "source": [
        "#tau=0.4 fold 2\r\n",
        "mae_sum=0\r\n",
        "mae_cnt=0\r\n",
        "for i in range(test.shape[0]):\r\n",
        "  #print(i)\r\n",
        "  temp = test.iloc[[i]]\r\n",
        "  R = getR_4(temp['user_id'][i],temp['item_id'][i])\r\n",
        "  mae_sum += abs(R - temp['rating'][i])\r\n",
        "  mae_cnt+=1   \r\n",
        "\r\n",
        "print('Fold 2 Tau=0.4 MAE : ',mae_sum/mae_cnt)"
      ],
      "execution_count": null,
      "outputs": [
        {
          "output_type": "stream",
          "text": [
            "Fold 2 Tau=0.4 MAE :  0.8201880565573212\n"
          ],
          "name": "stdout"
        }
      ]
    },
    {
      "cell_type": "code",
      "metadata": {
        "id": "r-0OvtudPMos",
        "colab": {
          "base_uri": "https://localhost:8080/"
        },
        "outputId": "8b3de898-0877-4e11-be9b-186fff6c9479"
      },
      "source": [
        "#tau=0.5 fold 2\r\n",
        "mae_sum=0\r\n",
        "mae_cnt=0\r\n",
        "for i in range(test.shape[0]):\r\n",
        "  #print(i)\r\n",
        "  temp = test.iloc[[i]]\r\n",
        "  R = getR_5(temp['user_id'][i],temp['item_id'][i])\r\n",
        "  mae_sum += abs(R - temp['rating'][i])\r\n",
        "  mae_cnt+=1   \r\n",
        "\r\n",
        "print('Fold 2 Tau=0.5 MAE : ',mae_sum/mae_cnt)"
      ],
      "execution_count": null,
      "outputs": [
        {
          "output_type": "stream",
          "text": [
            "Fold 2 Tau=0.5 MAE :  0.8201839322604757\n"
          ],
          "name": "stdout"
        }
      ]
    },
    {
      "cell_type": "code",
      "metadata": {
        "id": "63mbDP7PPfdL",
        "colab": {
          "base_uri": "https://localhost:8080/"
        },
        "outputId": "5ac4d99c-1700-45ac-9f59-26caf4ccd3e4"
      },
      "source": [
        "#tau=0.6 fold 2\r\n",
        "mae_sum=0\r\n",
        "mae_cnt=0\r\n",
        "for i in range(test.shape[0]):\r\n",
        "  #print(i)\r\n",
        "  temp = test.iloc[[i]]\r\n",
        "  R = getR_6(temp['user_id'][i],temp['item_id'][i])\r\n",
        "  mae_sum += abs(R - temp['rating'][i])\r\n",
        "  mae_cnt+=1   \r\n",
        "\r\n",
        "print('Fold 2 Tau=0.6 MAE : ',mae_sum/mae_cnt)"
      ],
      "execution_count": null,
      "outputs": [
        {
          "output_type": "stream",
          "text": [
            "Fold 2 Tau=0.6 MAE :  0.8201778408269204\n"
          ],
          "name": "stdout"
        }
      ]
    },
    {
      "cell_type": "code",
      "metadata": {
        "id": "1OdTG5EDPibp",
        "colab": {
          "base_uri": "https://localhost:8080/"
        },
        "outputId": "aea80684-e1ef-4e12-de61-ccb4d244efde"
      },
      "source": [
        "#tau=0.7 fold 2\r\n",
        "mae_sum=0\r\n",
        "mae_cnt=0\r\n",
        "for i in range(test.shape[0]):\r\n",
        "  #print(i)\r\n",
        "  temp = test.iloc[[i]]\r\n",
        "  R = getR_7(temp['user_id'][i],temp['item_id'][i])\r\n",
        "  mae_sum += abs(R - temp['rating'][i])\r\n",
        "  mae_cnt+=1   \r\n",
        "\r\n",
        "print('Fold 2 Tau=0.7 MAE : ',mae_sum/mae_cnt)"
      ],
      "execution_count": null,
      "outputs": [
        {
          "output_type": "stream",
          "text": [
            "Fold 2 Tau=0.7 MAE :  0.8202559130390149\n"
          ],
          "name": "stdout"
        }
      ]
    },
    {
      "cell_type": "code",
      "metadata": {
        "id": "bWsFRqmSPmqp"
      },
      "source": [
        "#Fold 3\r\n",
        "train=pd.read_csv('u3.base',sep='\\t',names=['user_id','item_id','rating','timestamp'])\r\n",
        "test=pd.read_csv('u3.test',sep='\\t',names=['user_id','item_id','rating','timestamp'])\r\n",
        "#make user_id x item_it array\r\n",
        "ratings = np.empty(shape=(944,1683))\r\n",
        "ratings[:] = np.nan\r\n",
        "#copy training data(given ratings) into 2d array\r\n",
        "for i in range(train.shape[0]):\r\n",
        "  #print(i)\r\n",
        "  temp = train.iloc[[i]]\r\n",
        "  ratings[temp['user_id'][i]][temp['item_id'][i]] = temp['rating'][i]"
      ],
      "execution_count": null,
      "outputs": []
    },
    {
      "cell_type": "code",
      "metadata": {
        "id": "05SLfyjlP6yf",
        "colab": {
          "base_uri": "https://localhost:8080/"
        },
        "outputId": "01203dc0-3b12-4814-b60e-2a8bdb5b0553"
      },
      "source": [
        "#tau=0.4 fold 3\r\n",
        "mae_sum=0\r\n",
        "mae_cnt=0\r\n",
        "for i in range(test.shape[0]):\r\n",
        "  #print(i)\r\n",
        "  temp = test.iloc[[i]]\r\n",
        "  R = getR_4(temp['user_id'][i],temp['item_id'][i])\r\n",
        "  mae_sum += abs(R - temp['rating'][i])\r\n",
        "  mae_cnt+=1   \r\n",
        "\r\n",
        "print('Fold 3 Tau=0.4 MAE : ',mae_sum/mae_cnt)"
      ],
      "execution_count": null,
      "outputs": [
        {
          "output_type": "stream",
          "text": [
            "Fold 3 Tau=0.4 MAE :  0.8108593959794573\n"
          ],
          "name": "stdout"
        }
      ]
    },
    {
      "cell_type": "code",
      "metadata": {
        "id": "Uyc1rk9FP5uD",
        "colab": {
          "base_uri": "https://localhost:8080/"
        },
        "outputId": "a20b79a8-7df9-4c2f-ca68-983c81952f78"
      },
      "source": [
        "#tau=0.5 fold 3\r\n",
        "mae_sum=0\r\n",
        "mae_cnt=0\r\n",
        "for i in range(test.shape[0]):\r\n",
        "  #print(i)\r\n",
        "  temp = test.iloc[[i]]\r\n",
        "  R = getR_5(temp['user_id'][i],temp['item_id'][i])\r\n",
        "  mae_sum += abs(R - temp['rating'][i])\r\n",
        "  mae_cnt+=1   \r\n",
        "\r\n",
        "print('Fold 3 Tau=0.5 MAE : ',mae_sum/mae_cnt)"
      ],
      "execution_count": null,
      "outputs": [
        {
          "output_type": "stream",
          "text": [
            "Fold 3 Tau=0.5 MAE :  0.8108537049671175\n"
          ],
          "name": "stdout"
        }
      ]
    },
    {
      "cell_type": "code",
      "metadata": {
        "id": "kjwPqCtUP4g2",
        "colab": {
          "base_uri": "https://localhost:8080/"
        },
        "outputId": "d8a36831-03b8-4c1d-9413-d92644244ac6"
      },
      "source": [
        "#tau=0.6 fold 3\r\n",
        "mae_sum=0\r\n",
        "mae_cnt=0\r\n",
        "for i in range(test.shape[0]):\r\n",
        "  #print(i)\r\n",
        "  temp = test.iloc[[i]]\r\n",
        "  R = getR_6(temp['user_id'][i],temp['item_id'][i])\r\n",
        "  mae_sum += abs(R - temp['rating'][i])\r\n",
        "  mae_cnt+=1   \r\n",
        "\r\n",
        "print('Fold 3 Tau=0.6 MAE : ',mae_sum/mae_cnt)"
      ],
      "execution_count": null,
      "outputs": [
        {
          "output_type": "stream",
          "text": [
            "Fold 3 Tau=0.6 MAE :  0.8108857409738569\n"
          ],
          "name": "stdout"
        }
      ]
    },
    {
      "cell_type": "code",
      "metadata": {
        "id": "v4n17chvP3uo",
        "colab": {
          "base_uri": "https://localhost:8080/"
        },
        "outputId": "b91205d3-839a-44fa-fe30-1db4206d4ff0"
      },
      "source": [
        "#tau=0.7 fold 3\r\n",
        "mae_sum=0\r\n",
        "mae_cnt=0\r\n",
        "for i in range(test.shape[0]):\r\n",
        "  #print(i)\r\n",
        "  temp = test.iloc[[i]]\r\n",
        "  R = getR_7(temp['user_id'][i],temp['item_id'][i])\r\n",
        "  mae_sum += abs(R - temp['rating'][i])\r\n",
        "  mae_cnt+=1   \r\n",
        "\r\n",
        "print('Fold 3 Tau=0.7 MAE : ',mae_sum/mae_cnt)"
      ],
      "execution_count": null,
      "outputs": [
        {
          "output_type": "stream",
          "text": [
            "Fold 3 Tau=0.7 MAE :  0.8108639006559971\n"
          ],
          "name": "stdout"
        }
      ]
    },
    {
      "cell_type": "code",
      "metadata": {
        "id": "OZ3h_QSpQWk2"
      },
      "source": [
        "#Fold 4\r\n",
        "train=pd.read_csv('u4.base',sep='\\t',names=['user_id','item_id','rating','timestamp'])\r\n",
        "test=pd.read_csv('u4.test',sep='\\t',names=['user_id','item_id','rating','timestamp'])\r\n",
        "#make user_id x item_it array\r\n",
        "ratings = np.empty(shape=(944,1683))\r\n",
        "ratings[:] = np.nan\r\n",
        "#copy training data(given ratings) into 2d array\r\n",
        "for i in range(train.shape[0]):\r\n",
        "  #print(i)\r\n",
        "  temp = train.iloc[[i]]\r\n",
        "  ratings[temp['user_id'][i]][temp['item_id'][i]] = temp['rating'][i]"
      ],
      "execution_count": null,
      "outputs": []
    },
    {
      "cell_type": "code",
      "metadata": {
        "id": "2QD7cYRmQf69",
        "colab": {
          "base_uri": "https://localhost:8080/"
        },
        "outputId": "458580d1-835d-44e2-d476-695624d30d3e"
      },
      "source": [
        "#tau=0.4 fold 4\r\n",
        "mae_sum=0\r\n",
        "mae_cnt=0\r\n",
        "for i in range(test.shape[0]):\r\n",
        "  #print(i)\r\n",
        "  temp = test.iloc[[i]]\r\n",
        "  R = getR_4(temp['user_id'][i],temp['item_id'][i])\r\n",
        "  mae_sum += abs(R - temp['rating'][i])\r\n",
        "  mae_cnt+=1   \r\n",
        "\r\n",
        "print('Fold 4 Tau=0.4 MAE : ',mae_sum/mae_cnt)"
      ],
      "execution_count": null,
      "outputs": [
        {
          "output_type": "stream",
          "text": [
            "Fold 4 Tau=0.4 MAE :  0.8095768843477015\n"
          ],
          "name": "stdout"
        }
      ]
    },
    {
      "cell_type": "code",
      "metadata": {
        "id": "-2CfYVT8QgCD",
        "colab": {
          "base_uri": "https://localhost:8080/"
        },
        "outputId": "98117bd3-df91-4059-b3af-2cb97eb3ca90"
      },
      "source": [
        "#tau=0.5 fold 4\r\n",
        "mae_sum=0\r\n",
        "mae_cnt=0\r\n",
        "for i in range(test.shape[0]):\r\n",
        "  #print(i)\r\n",
        "  temp = test.iloc[[i]]\r\n",
        "  R = getR_5(temp['user_id'][i],temp['item_id'][i])\r\n",
        "  mae_sum += abs(R - temp['rating'][i])\r\n",
        "  mae_cnt+=1   \r\n",
        "\r\n",
        "print('Fold 4 Tau=0.5 MAE : ',mae_sum/mae_cnt)"
      ],
      "execution_count": null,
      "outputs": [
        {
          "output_type": "stream",
          "text": [
            "Fold 4 Tau=0.5 MAE :  0.8095730989394443\n"
          ],
          "name": "stdout"
        }
      ]
    },
    {
      "cell_type": "code",
      "metadata": {
        "id": "EwxaiMb_QgJR",
        "colab": {
          "base_uri": "https://localhost:8080/"
        },
        "outputId": "107a9c30-0019-4aae-e949-f071a85affb4"
      },
      "source": [
        "#tau=0.6 fold 4\r\n",
        "mae_sum=0\r\n",
        "mae_cnt=0\r\n",
        "for i in range(test.shape[0]):\r\n",
        "  #print(i)\r\n",
        "  temp = test.iloc[[i]]\r\n",
        "  R = getR_6(temp['user_id'][i],temp['item_id'][i])\r\n",
        "  mae_sum += abs(R - temp['rating'][i])\r\n",
        "  mae_cnt+=1   \r\n",
        "\r\n",
        "print('Fold 4 Tau=0.6 MAE : ',mae_sum/mae_cnt)"
      ],
      "execution_count": null,
      "outputs": [
        {
          "output_type": "stream",
          "text": [
            "Fold 4 Tau=0.6 MAE :  0.8094891018972152\n"
          ],
          "name": "stdout"
        }
      ]
    },
    {
      "cell_type": "code",
      "metadata": {
        "id": "PBl7-AoRQgQ9",
        "colab": {
          "base_uri": "https://localhost:8080/"
        },
        "outputId": "529167e9-803e-420e-bf56-d0360a10964d"
      },
      "source": [
        "#tau=0.7 fold 4\r\n",
        "mae_sum=0\r\n",
        "mae_cnt=0\r\n",
        "for i in range(test.shape[0]):\r\n",
        "  #print(i)\r\n",
        "  temp = test.iloc[[i]]\r\n",
        "  R = getR_7(temp['user_id'][i],temp['item_id'][i])\r\n",
        "  mae_sum += abs(R - temp['rating'][i])\r\n",
        "  mae_cnt+=1   \r\n",
        "\r\n",
        "print('Fold 4 Tau=0.7 MAE : ',mae_sum/mae_cnt)"
      ],
      "execution_count": null,
      "outputs": [
        {
          "output_type": "stream",
          "text": [
            "Fold 4 Tau=0.7 MAE :  0.8094276784086285\n"
          ],
          "name": "stdout"
        }
      ]
    },
    {
      "cell_type": "code",
      "metadata": {
        "id": "makQmU--Q0mi"
      },
      "source": [
        "#Fold 5\r\n",
        "train=pd.read_csv('u5.base',sep='\\t',names=['user_id','item_id','rating','timestamp'])\r\n",
        "test=pd.read_csv('u5.test',sep='\\t',names=['user_id','item_id','rating','timestamp'])\r\n",
        "#make user_id x item_it array\r\n",
        "ratings = np.empty(shape=(944,1683))\r\n",
        "ratings[:] = np.nan\r\n",
        "#copy training data(given ratings) into 2d array\r\n",
        "for i in range(train.shape[0]):\r\n",
        "  #print(i)\r\n",
        "  temp = train.iloc[[i]]\r\n",
        "  ratings[temp['user_id'][i]][temp['item_id'][i]] = temp['rating'][i]"
      ],
      "execution_count": null,
      "outputs": []
    },
    {
      "cell_type": "code",
      "metadata": {
        "id": "FbDfVzT0Q9rm",
        "colab": {
          "base_uri": "https://localhost:8080/"
        },
        "outputId": "8a9877de-cdf8-4d9e-f7ac-eb67a1386071"
      },
      "source": [
        "#tau=0.7 fold 5\r\n",
        "mae_sum=0\r\n",
        "mae_cnt=0\r\n",
        "for i in range(test.shape[0]):\r\n",
        "  #print(i)\r\n",
        "  temp = test.iloc[[i]]\r\n",
        "  R = getR_7(temp['user_id'][i],temp['item_id'][i])\r\n",
        "  mae_sum += abs(R - temp['rating'][i])\r\n",
        "  mae_cnt+=1   \r\n",
        "\r\n",
        "print('Fold 5 Tau=0.7 MAE : ',mae_sum/mae_cnt)"
      ],
      "execution_count": null,
      "outputs": [
        {
          "output_type": "stream",
          "text": [
            "Fold 5 Tau=0.7 MAE :  0.814212548092346\n"
          ],
          "name": "stdout"
        }
      ]
    },
    {
      "cell_type": "code",
      "metadata": {
        "id": "KBun2lVHQ9_l",
        "colab": {
          "base_uri": "https://localhost:8080/"
        },
        "outputId": "f4a64891-d304-4712-e6b8-58e030080a3d"
      },
      "source": [
        "#tau=0.6 fold 5\r\n",
        "mae_sum=0\r\n",
        "mae_cnt=0\r\n",
        "for i in range(test.shape[0]):\r\n",
        "  #print(i)\r\n",
        "  temp = test.iloc[[i]]\r\n",
        "  R = getR_6(temp['user_id'][i],temp['item_id'][i])\r\n",
        "  mae_sum += abs(R - temp['rating'][i])\r\n",
        "  mae_cnt+=1   \r\n",
        "\r\n",
        "print('Fold 5 Tau=0.6 MAE : ',mae_sum/mae_cnt)"
      ],
      "execution_count": null,
      "outputs": [
        {
          "output_type": "stream",
          "text": [
            "Fold 5 Tau=0.6 MAE :  0.8142305769378908\n"
          ],
          "name": "stdout"
        }
      ]
    },
    {
      "cell_type": "code",
      "metadata": {
        "id": "xKnZU-8FQ-L1",
        "colab": {
          "base_uri": "https://localhost:8080/"
        },
        "outputId": "7a4fd932-9592-43ac-d710-85c56cc1db53"
      },
      "source": [
        "#tau=0.5 fold 5\r\n",
        "mae_sum=0\r\n",
        "mae_cnt=0\r\n",
        "for i in range(test.shape[0]):\r\n",
        "  #print(i)\r\n",
        "  temp = test.iloc[[i]]\r\n",
        "  R = getR_5(temp['user_id'][i],temp['item_id'][i])\r\n",
        "  mae_sum += abs(R - temp['rating'][i])\r\n",
        "  mae_cnt+=1   \r\n",
        "\r\n",
        "print('Fold 5 Tau=0.5 MAE : ',mae_sum/mae_cnt)"
      ],
      "execution_count": null,
      "outputs": [
        {
          "output_type": "stream",
          "text": [
            "Fold 5 Tau=0.5 MAE :  0.8142465487951474\n"
          ],
          "name": "stdout"
        }
      ]
    },
    {
      "cell_type": "code",
      "metadata": {
        "id": "P1vV0CaRQ-T7",
        "colab": {
          "base_uri": "https://localhost:8080/"
        },
        "outputId": "454eb62e-c90a-4242-9c2d-3edd03654073"
      },
      "source": [
        "#tau=0.4 fold 5\r\n",
        "mae_sum=0\r\n",
        "mae_cnt=0\r\n",
        "for i in range(test.shape[0]):\r\n",
        "  #print(i)\r\n",
        "  temp = test.iloc[[i]]\r\n",
        "  R = getR_4(temp['user_id'][i],temp['item_id'][i])\r\n",
        "  mae_sum += abs(R - temp['rating'][i])\r\n",
        "  mae_cnt+=1   \r\n",
        "\r\n",
        "print('Fold 5 Tau=0.4 MAE : ',mae_sum/mae_cnt)"
      ],
      "execution_count": null,
      "outputs": [
        {
          "output_type": "stream",
          "text": [
            "Fold 5 Tau=0.4 MAE :  0.8142464282909688\n"
          ],
          "name": "stdout"
        }
      ]
    }
  ]
}